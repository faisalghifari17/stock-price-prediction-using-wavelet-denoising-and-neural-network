{
 "cells": [
  {
   "cell_type": "markdown",
   "metadata": {},
   "source": [
    "# Abstract"
   ]
  },
  {
   "cell_type": "markdown",
   "metadata": {},
   "source": [
    "In this project, we try to building a model that combining wavelet denoising and Artificial Neural Network. Using this model, we will predict stock price of Apple Inc. Then, we will evaluate model's performance using evaluation metrics.\n",
    "\n",
    "At first, stock price data will be processed using wavelet denoising. Then we get denoised stock price data. Using this denoised data, we train neural network model. After training, we test the model and evaluate its performance using several evaluation metrics (Mean Absolute Error, Mean Absolute Percentage Error, Mean Squared Error, Root Mean Squared Error and R2 score."
   ]
  },
  {
   "cell_type": "markdown",
   "metadata": {},
   "source": [
    "# Importing needed packages"
   ]
  },
  {
   "cell_type": "markdown",
   "metadata": {},
   "source": [
    "In this project, I use several packages. The version of each packages I used are listed below. \n",
    "\n",
    "- yfinance==0.1.74\n",
    "- tensorflow==2.9.1\n",
    "- scikit-learn==1.2.1\n",
    "- PyWavelets==1.1.1\n",
    "- pandas==1.0.5\n",
    "- numpy==1.23.1\n",
    "- matplotlib==3.2.2\n",
    "- keras==2.9.0"
   ]
  },
  {
   "cell_type": "code",
   "execution_count": 11,
   "metadata": {
    "id": "FydciQMDpJyW"
   },
   "outputs": [],
   "source": [
    "import math\n",
    "import yfinance as yf\n",
    "import numpy as np\n",
    "import pandas as pd\n",
    "import pywt\n",
    "from pywt import wavedec\n",
    "from pywt import waverec\n",
    "from sklearn.preprocessing import MinMaxScaler\n",
    "import matplotlib.pyplot as plt\n",
    "import tensorflow as tf\n",
    "from tensorflow import keras\n",
    "from tensorflow.keras import layers"
   ]
  },
  {
   "cell_type": "code",
   "execution_count": 12,
   "metadata": {
    "id": "z8aJs2otiPgy"
   },
   "outputs": [],
   "source": [
    "from sklearn.metrics import r2_score\n",
    "from sklearn.metrics import mean_absolute_error\n",
    "from sklearn.metrics import mean_absolute_percentage_error\n",
    "from sklearn.metrics import mean_squared_error"
   ]
  },
  {
   "cell_type": "markdown",
   "metadata": {
    "id": "UUv8HmH76FYg"
   },
   "source": [
    "# Getting stock's data and pre-processing"
   ]
  },
  {
   "cell_type": "code",
   "execution_count": 13,
   "metadata": {
    "colab": {
     "base_uri": "https://localhost:8080/",
     "height": 255
    },
    "id": "0UHqyw-Eply5",
    "outputId": "e5cd13fa-7408-4ce5-f9d9-20f941275069"
   },
   "outputs": [
    {
     "name": "stdout",
     "output_type": "stream",
     "text": [
      "[*********************100%***********************]  1 of 1 completed\n"
     ]
    },
    {
     "data": {
      "text/html": [
       "<div>\n",
       "<style scoped>\n",
       "    .dataframe tbody tr th:only-of-type {\n",
       "        vertical-align: middle;\n",
       "    }\n",
       "\n",
       "    .dataframe tbody tr th {\n",
       "        vertical-align: top;\n",
       "    }\n",
       "\n",
       "    .dataframe thead th {\n",
       "        text-align: right;\n",
       "    }\n",
       "</style>\n",
       "<table border=\"1\" class=\"dataframe\">\n",
       "  <thead>\n",
       "    <tr style=\"text-align: right;\">\n",
       "      <th></th>\n",
       "      <th>Open</th>\n",
       "      <th>High</th>\n",
       "      <th>Low</th>\n",
       "      <th>Close</th>\n",
       "      <th>Adj Close</th>\n",
       "      <th>Volume</th>\n",
       "    </tr>\n",
       "    <tr>\n",
       "      <th>Date</th>\n",
       "      <th></th>\n",
       "      <th></th>\n",
       "      <th></th>\n",
       "      <th></th>\n",
       "      <th></th>\n",
       "      <th></th>\n",
       "    </tr>\n",
       "  </thead>\n",
       "  <tbody>\n",
       "    <tr>\n",
       "      <th>2020-03-31</th>\n",
       "      <td>63.900002</td>\n",
       "      <td>65.622498</td>\n",
       "      <td>63.000000</td>\n",
       "      <td>63.572498</td>\n",
       "      <td>62.428360</td>\n",
       "      <td>197002000</td>\n",
       "    </tr>\n",
       "    <tr>\n",
       "      <th>2020-04-01</th>\n",
       "      <td>61.625000</td>\n",
       "      <td>62.180000</td>\n",
       "      <td>59.782501</td>\n",
       "      <td>60.227501</td>\n",
       "      <td>59.143562</td>\n",
       "      <td>176218400</td>\n",
       "    </tr>\n",
       "    <tr>\n",
       "      <th>2020-04-02</th>\n",
       "      <td>60.084999</td>\n",
       "      <td>61.287498</td>\n",
       "      <td>59.224998</td>\n",
       "      <td>61.232498</td>\n",
       "      <td>60.130470</td>\n",
       "      <td>165934000</td>\n",
       "    </tr>\n",
       "    <tr>\n",
       "      <th>2020-04-03</th>\n",
       "      <td>60.700001</td>\n",
       "      <td>61.424999</td>\n",
       "      <td>59.742500</td>\n",
       "      <td>60.352501</td>\n",
       "      <td>59.266312</td>\n",
       "      <td>129880000</td>\n",
       "    </tr>\n",
       "    <tr>\n",
       "      <th>2020-04-06</th>\n",
       "      <td>62.724998</td>\n",
       "      <td>65.777496</td>\n",
       "      <td>62.345001</td>\n",
       "      <td>65.617500</td>\n",
       "      <td>64.436554</td>\n",
       "      <td>201820400</td>\n",
       "    </tr>\n",
       "  </tbody>\n",
       "</table>\n",
       "</div>"
      ],
      "text/plain": [
       "                 Open       High        Low      Close  Adj Close     Volume\n",
       "Date                                                                        \n",
       "2020-03-31  63.900002  65.622498  63.000000  63.572498  62.428360  197002000\n",
       "2020-04-01  61.625000  62.180000  59.782501  60.227501  59.143562  176218400\n",
       "2020-04-02  60.084999  61.287498  59.224998  61.232498  60.130470  165934000\n",
       "2020-04-03  60.700001  61.424999  59.742500  60.352501  59.266312  129880000\n",
       "2020-04-06  62.724998  65.777496  62.345001  65.617500  64.436554  201820400"
      ]
     },
     "execution_count": 13,
     "metadata": {},
     "output_type": "execute_result"
    }
   ],
   "source": [
    "#getting Apple Inc. stock data from yfinance for April 1st,2020 throgh March 31st,2022\n",
    "stock = 'AAPL' #stock's ticker\n",
    "stock_data = yf.download(stock, start='2020-04-01', end='2022-04-01')\n",
    "stock_data.head()"
   ]
  },
  {
   "cell_type": "code",
   "execution_count": 14,
   "metadata": {
    "id": "qrgX98P5Ov9-"
   },
   "outputs": [
    {
     "data": {
      "text/plain": [
       "Date\n",
       "2020-03-31     63.572498\n",
       "2020-04-01     60.227501\n",
       "2020-04-02     61.232498\n",
       "2020-04-03     60.352501\n",
       "2020-04-06     65.617500\n",
       "                 ...    \n",
       "2022-03-25    174.720001\n",
       "2022-03-28    175.600006\n",
       "2022-03-29    178.960007\n",
       "2022-03-30    177.770004\n",
       "2022-03-31    174.610001\n",
       "Name: Close, Length: 506, dtype: float64"
      ]
     },
     "execution_count": 14,
     "metadata": {},
     "output_type": "execute_result"
    }
   ],
   "source": [
    "#in this project, we use only closing price to train and test the model\n",
    "#in that case, we only need closing price data\n",
    "\n",
    "#taking closing price data\n",
    "stock_price = stock_data['Close']\n",
    "stock_price"
   ]
  },
  {
   "cell_type": "code",
   "execution_count": 15,
   "metadata": {
    "id": "5o7-opKQzPFd"
   },
   "outputs": [],
   "source": [
    "train_size = 0.8 #train:test ratio is 4:1\n",
    "\n",
    "#splitting the training and test data\n",
    "train = stock_price[:round(len(stock_price)*train_size)]\n",
    "test = stock_price[round(len(stock_price)*train_size):]"
   ]
  },
  {
   "cell_type": "markdown",
   "metadata": {
    "id": "Za7WufS26Y0N"
   },
   "source": [
    "# Denoising using Discrete Wavelet Transform and Inverse Discrete Wavelet Transform"
   ]
  },
  {
   "cell_type": "code",
   "execution_count": 16,
   "metadata": {},
   "outputs": [],
   "source": [
    "#initiate wavelet type and wavelet decomposition level variables\n",
    "level = 2 #wavelet transform decomposition level\n",
    "wavelet = 'db2' #wavelet type. here we choose wavelet Daubechies 2 (db2)"
   ]
  },
  {
   "cell_type": "code",
   "execution_count": 17,
   "metadata": {
    "id": "YX55nOi-Vobs"
   },
   "outputs": [],
   "source": [
    "#making function for calculating mean absolute deviation for thresholding\n",
    "def mad(d, axis=None):\n",
    "    \"\"\" Mean absolute deviation of a signal \"\"\"\n",
    "    return np.mean(np.absolute(d - np.mean(d, axis)), axis)"
   ]
  },
  {
   "cell_type": "code",
   "execution_count": 18,
   "metadata": {},
   "outputs": [],
   "source": [
    "#wavelet denoising consists of three parts: decomposition, thresholding, reconstruction"
   ]
  },
  {
   "cell_type": "code",
   "execution_count": 19,
   "metadata": {
    "id": "Padqo2xrp0pb"
   },
   "outputs": [],
   "source": [
    "#decompositon/Discrete Wavelet Transform\n",
    "level = int(level)\n",
    "wavelet = wavelet\n",
    "coeff = wavedec(train, wavelet, level=level)"
   ]
  },
  {
   "cell_type": "code",
   "execution_count": 20,
   "metadata": {
    "id": "tyoi_MMFmOBy"
   },
   "outputs": [],
   "source": [
    "#thresholding\n",
    "sigma = mad(coeff[-level])/0.6745\n",
    "threshold = sigma * np.sqrt(2*np.log(len(train)))\n",
    "coeff[1:] = (pywt.threshold(i, value=threshold, mode=\"soft\") for i in coeff[1:])"
   ]
  },
  {
   "cell_type": "code",
   "execution_count": 21,
   "metadata": {
    "id": "74ut6JasQJz0"
   },
   "outputs": [],
   "source": [
    "#reconstruction/Inverse Discrete Wavelet Transform\n",
    "denoised = waverec(coeff, wavelet)"
   ]
  },
  {
   "cell_type": "code",
   "execution_count": 22,
   "metadata": {
    "id": "4UmU4YkJd2nd"
   },
   "outputs": [],
   "source": [
    "train = train.reset_index()"
   ]
  },
  {
   "cell_type": "code",
   "execution_count": 23,
   "metadata": {},
   "outputs": [],
   "source": [
    "if len(train)!=len(denoised):\n",
    "    denoised = denoised[:-1]"
   ]
  },
  {
   "cell_type": "code",
   "execution_count": 24,
   "metadata": {
    "id": "jvPts0OIWO24"
   },
   "outputs": [],
   "source": [
    "train ['denoised'] = denoised"
   ]
  },
  {
   "cell_type": "code",
   "execution_count": 25,
   "metadata": {
    "colab": {
     "base_uri": "https://localhost:8080/",
     "height": 514
    },
    "id": "WerkqFG2tW8Q",
    "outputId": "542de60f-c37b-4d15-9c31-0d977e69a25f"
   },
   "outputs": [
    {
     "data": {
      "text/plain": [
       "<matplotlib.legend.Legend at 0x23f26cd8a00>"
      ]
     },
     "execution_count": 25,
     "metadata": {},
     "output_type": "execute_result"
    },
    {
     "data": {
      "image/png": "[encoded data removed]",
      "text/plain": [
       "<Figure size 1080x576 with 1 Axes>"
      ]
     },
     "metadata": {
      "needs_background": "light"
     },
     "output_type": "display_data"
    }
   ],
   "source": [
    "#plotting the actual stock price data and the denoised data\n",
    "plt.figure(figsize=(15, 8))\n",
    "plt.title('Training data')\n",
    "plt.plot(train['Date'], train['Close'])\n",
    "plt.plot(train['Date'], denoised)\n",
    "plt.xlabel('Date')\n",
    "plt.ylabel('Price ($)')\n",
    "plt.legend(['Actual data', 'Denoised data'], loc='best')"
   ]
  },
  {
   "cell_type": "markdown",
   "metadata": {
    "id": "2hjdRXf16kLW"
   },
   "source": [
    "# Building ANN Model"
   ]
  },
  {
   "cell_type": "code",
   "execution_count": 26,
   "metadata": {
    "id": "ybkAdAuzJyiC"
   },
   "outputs": [],
   "source": [
    "train = pd.DataFrame(train['denoised'])\n",
    "test_df = pd.DataFrame(test)\n",
    "test_df = test_df.reset_index()\n",
    "test = pd.DataFrame(test_df['Close'])"
   ]
  },
  {
   "cell_type": "code",
   "execution_count": 27,
   "metadata": {
    "id": "zigL21k-bC12"
   },
   "outputs": [],
   "source": [
    "#Feature Scaling\n",
    "sc = MinMaxScaler(feature_range = (0, 1))\n",
    "train_scaled = sc.fit_transform(train.values.reshape(-1,1))\n",
    "test_scaled = sc.fit_transform(test.values.reshape(-1,1))"
   ]
  },
  {
   "cell_type": "code",
   "execution_count": 28,
   "metadata": {
    "id": "v9C1hPQScjeh"
   },
   "outputs": [],
   "source": [
    "#dividing each of training and testing data into input and output data for model training and testing\n",
    "\n",
    "window_size = 60\n",
    "\n",
    "X_train, y_train = [], []\n",
    "\n",
    "for i in range(len(train_scaled)-window_size):\n",
    "  a = train_scaled[i:(i+window_size), 0]\n",
    "  X_train.append(a)\n",
    "  y_train.append(train_scaled[i+window_size, 0])\n",
    "\n",
    "X_train = np.array(X_train)\n",
    "y_train = np.array(y_train)\n",
    "\n",
    "X_test, y_test = [], []\n",
    "\n",
    "for i in range(len(test)-window_size):\n",
    "  a = test_scaled[i:(i+window_size), 0]\n",
    "  X_test.append(a)\n",
    "  y_test.append(test_scaled[i+window_size, 0])\n",
    "\n",
    "X_test = np.array(X_test)\n",
    "y_test = np.array(y_test)"
   ]
  },
  {
   "cell_type": "code",
   "execution_count": 29,
   "metadata": {
    "id": "MY2xAbNze-8F"
   },
   "outputs": [],
   "source": [
    "#reshaping\n",
    "X_train = X_train.reshape(X_train.shape[0], X_train.shape[1], 1)\n",
    "X_test = X_test.reshape(X_test.shape[0], X_test.shape[1], 1)"
   ]
  },
  {
   "cell_type": "code",
   "execution_count": 30,
   "metadata": {
    "id": "PW1uP2mlNYX3"
   },
   "outputs": [],
   "source": [
    "#initiate hyperparameter values\n",
    "batch = 1\n",
    "epochs = 15\n",
    "neuron = 40"
   ]
  },
  {
   "cell_type": "code",
   "execution_count": 31,
   "metadata": {
    "colab": {
     "base_uri": "https://localhost:8080/"
    },
    "id": "uCIPPrCR-FCt",
    "outputId": "f17ac6f7-9146-4b9e-e9a2-7c143a25fbe0"
   },
   "outputs": [
    {
     "name": "stdout",
     "output_type": "stream",
     "text": [
      "Model: \"sequential\"\n",
      "_________________________________________________________________\n",
      " Layer (type)                Output Shape              Param #   \n",
      "=================================================================\n",
      " lstm (LSTM)                 (None, 60, 60)            14880     \n",
      "                                                                 \n",
      " lstm_1 (LSTM)               (None, 40)                16160     \n",
      "                                                                 \n",
      " dense (Dense)               (None, 1)                 41        \n",
      "                                                                 \n",
      "=================================================================\n",
      "Total params: 31,081\n",
      "Trainable params: 31,081\n",
      "Non-trainable params: 0\n",
      "_________________________________________________________________\n"
     ]
    }
   ],
   "source": [
    "#building ANN model\n",
    "model = keras.Sequential()\n",
    "model.add(layers.LSTM(window_size, return_sequences=True, input_shape=(window_size, 1)))\n",
    "model.add(layers.LSTM(neuron, return_sequences=False))\n",
    "model.add(layers.Dense(1))\n",
    "model.summary()"
   ]
  },
  {
   "cell_type": "code",
   "execution_count": 32,
   "metadata": {
    "colab": {
     "base_uri": "https://localhost:8080/"
    },
    "id": "raQV-BjK-NRU",
    "outputId": "cae5ac41-3728-4c3a-a9b3-550ec524b77d"
   },
   "outputs": [
    {
     "name": "stdout",
     "output_type": "stream",
     "text": [
      "Epoch 1/15\n",
      "345/345 [==============================] - 17s 34ms/step - loss: 0.0086\n",
      "Epoch 2/15\n",
      "345/345 [==============================] - 9s 27ms/step - loss: 0.0028\n",
      "Epoch 3/15\n",
      "345/345 [==============================] - 12s 34ms/step - loss: 0.0023\n",
      "Epoch 4/15\n",
      "345/345 [==============================] - 10s 28ms/step - loss: 0.0012\n",
      "Epoch 5/15\n",
      "345/345 [==============================] - 10s 30ms/step - loss: 0.0015\n",
      "Epoch 6/15\n",
      "345/345 [==============================] - 11s 32ms/step - loss: 9.3110e-04\n",
      "Epoch 7/15\n",
      "345/345 [==============================] - 10s 30ms/step - loss: 0.0010\n",
      "Epoch 8/15\n",
      "345/345 [==============================] - 9s 27ms/step - loss: 8.4576e-04\n",
      "Epoch 9/15\n",
      "345/345 [==============================] - 11s 32ms/step - loss: 7.0237e-04\n",
      "Epoch 10/15\n",
      "345/345 [==============================] - 11s 32ms/step - loss: 5.5496e-04\n",
      "Epoch 11/15\n",
      "345/345 [==============================] - 10s 30ms/step - loss: 4.8921e-04\n",
      "Epoch 12/15\n",
      "345/345 [==============================] - 10s 28ms/step - loss: 4.1993e-04\n",
      "Epoch 13/15\n",
      "345/345 [==============================] - 9s 26ms/step - loss: 3.5672e-04\n",
      "Epoch 14/15\n",
      "345/345 [==============================] - 11s 32ms/step - loss: 4.1915e-04\n",
      "Epoch 15/15\n",
      "345/345 [==============================] - 9s 27ms/step - loss: 3.2413e-04\n"
     ]
    },
    {
     "data": {
      "text/plain": [
       "<keras.callbacks.History at 0x23f28197eb0>"
      ]
     },
     "execution_count": 32,
     "metadata": {},
     "output_type": "execute_result"
    }
   ],
   "source": [
    "#training model\n",
    "model.compile(optimizer='adam', loss='mean_squared_error')\n",
    "model.fit(X_train, y_train, batch_size=batch, epochs=epochs)"
   ]
  },
  {
   "cell_type": "code",
   "execution_count": 33,
   "metadata": {
    "colab": {
     "base_uri": "https://localhost:8080/"
    },
    "id": "lNVYAqlCoRY-",
    "outputId": "19ab4d84-741a-4df1-f27a-30d605c96f64"
   },
   "outputs": [
    {
     "name": "stdout",
     "output_type": "stream",
     "text": [
      "2/2 [==============================] - 1s 16ms/step\n"
     ]
    }
   ],
   "source": [
    "pred = model.predict(X_test)\n",
    "pred = sc.inverse_transform(pred)"
   ]
  },
  {
   "cell_type": "code",
   "execution_count": 34,
   "metadata": {
    "id": "ueysomcIJK4S"
   },
   "outputs": [],
   "source": [
    "y_test = y_test.reshape(len(y_test), 1)\n",
    "y_test = sc.inverse_transform(y_test)"
   ]
  },
  {
   "cell_type": "code",
   "execution_count": 35,
   "metadata": {
    "colab": {
     "base_uri": "https://localhost:8080/"
    },
    "id": "gmoJzGikr7_L",
    "outputId": "e3f8ec47-27dd-41d3-e6a4-49545e3c218d"
   },
   "outputs": [
    {
     "data": {
      "text/html": [
       "<div>\n",
       "<style scoped>\n",
       "    .dataframe tbody tr th:only-of-type {\n",
       "        vertical-align: middle;\n",
       "    }\n",
       "\n",
       "    .dataframe tbody tr th {\n",
       "        vertical-align: top;\n",
       "    }\n",
       "\n",
       "    .dataframe thead th {\n",
       "        text-align: right;\n",
       "    }\n",
       "</style>\n",
       "<table border=\"1\" class=\"dataframe\">\n",
       "  <thead>\n",
       "    <tr style=\"text-align: right;\">\n",
       "      <th></th>\n",
       "      <th>Date</th>\n",
       "      <th>Close</th>\n",
       "      <th>predictions</th>\n",
       "    </tr>\n",
       "  </thead>\n",
       "  <tbody>\n",
       "    <tr>\n",
       "      <th>60</th>\n",
       "      <td>2022-02-02</td>\n",
       "      <td>175.839996</td>\n",
       "      <td>176.970062</td>\n",
       "    </tr>\n",
       "    <tr>\n",
       "      <th>61</th>\n",
       "      <td>2022-02-03</td>\n",
       "      <td>172.899994</td>\n",
       "      <td>176.031036</td>\n",
       "    </tr>\n",
       "    <tr>\n",
       "      <th>62</th>\n",
       "      <td>2022-02-04</td>\n",
       "      <td>172.389999</td>\n",
       "      <td>172.494308</td>\n",
       "    </tr>\n",
       "    <tr>\n",
       "      <th>63</th>\n",
       "      <td>2022-02-07</td>\n",
       "      <td>171.660004</td>\n",
       "      <td>172.236557</td>\n",
       "    </tr>\n",
       "    <tr>\n",
       "      <th>64</th>\n",
       "      <td>2022-02-08</td>\n",
       "      <td>174.830002</td>\n",
       "      <td>172.527161</td>\n",
       "    </tr>\n",
       "    <tr>\n",
       "      <th>65</th>\n",
       "      <td>2022-02-09</td>\n",
       "      <td>176.279999</td>\n",
       "      <td>176.650452</td>\n",
       "    </tr>\n",
       "    <tr>\n",
       "      <th>66</th>\n",
       "      <td>2022-02-10</td>\n",
       "      <td>172.119995</td>\n",
       "      <td>178.732452</td>\n",
       "    </tr>\n",
       "    <tr>\n",
       "      <th>67</th>\n",
       "      <td>2022-02-11</td>\n",
       "      <td>168.639999</td>\n",
       "      <td>172.515045</td>\n",
       "    </tr>\n",
       "    <tr>\n",
       "      <th>68</th>\n",
       "      <td>2022-02-14</td>\n",
       "      <td>168.880005</td>\n",
       "      <td>167.564743</td>\n",
       "    </tr>\n",
       "    <tr>\n",
       "      <th>69</th>\n",
       "      <td>2022-02-15</td>\n",
       "      <td>172.789993</td>\n",
       "      <td>168.637161</td>\n",
       "    </tr>\n",
       "    <tr>\n",
       "      <th>70</th>\n",
       "      <td>2022-02-16</td>\n",
       "      <td>172.550003</td>\n",
       "      <td>174.257965</td>\n",
       "    </tr>\n",
       "    <tr>\n",
       "      <th>71</th>\n",
       "      <td>2022-02-17</td>\n",
       "      <td>168.880005</td>\n",
       "      <td>174.599518</td>\n",
       "    </tr>\n",
       "    <tr>\n",
       "      <th>72</th>\n",
       "      <td>2022-02-18</td>\n",
       "      <td>167.300003</td>\n",
       "      <td>168.930710</td>\n",
       "    </tr>\n",
       "    <tr>\n",
       "      <th>73</th>\n",
       "      <td>2022-02-22</td>\n",
       "      <td>164.320007</td>\n",
       "      <td>166.416580</td>\n",
       "    </tr>\n",
       "    <tr>\n",
       "      <th>74</th>\n",
       "      <td>2022-02-23</td>\n",
       "      <td>160.070007</td>\n",
       "      <td>164.134171</td>\n",
       "    </tr>\n",
       "    <tr>\n",
       "      <th>75</th>\n",
       "      <td>2022-02-24</td>\n",
       "      <td>162.740005</td>\n",
       "      <td>160.500183</td>\n",
       "    </tr>\n",
       "    <tr>\n",
       "      <th>76</th>\n",
       "      <td>2022-02-25</td>\n",
       "      <td>164.850006</td>\n",
       "      <td>162.432663</td>\n",
       "    </tr>\n",
       "    <tr>\n",
       "      <th>77</th>\n",
       "      <td>2022-02-28</td>\n",
       "      <td>165.119995</td>\n",
       "      <td>165.526123</td>\n",
       "    </tr>\n",
       "    <tr>\n",
       "      <th>78</th>\n",
       "      <td>2022-03-01</td>\n",
       "      <td>163.199997</td>\n",
       "      <td>166.337067</td>\n",
       "    </tr>\n",
       "    <tr>\n",
       "      <th>79</th>\n",
       "      <td>2022-03-02</td>\n",
       "      <td>166.559998</td>\n",
       "      <td>163.996307</td>\n",
       "    </tr>\n",
       "    <tr>\n",
       "      <th>80</th>\n",
       "      <td>2022-03-03</td>\n",
       "      <td>166.229996</td>\n",
       "      <td>166.307373</td>\n",
       "    </tr>\n",
       "    <tr>\n",
       "      <th>81</th>\n",
       "      <td>2022-03-04</td>\n",
       "      <td>163.169998</td>\n",
       "      <td>166.967865</td>\n",
       "    </tr>\n",
       "    <tr>\n",
       "      <th>82</th>\n",
       "      <td>2022-03-07</td>\n",
       "      <td>159.300003</td>\n",
       "      <td>163.780075</td>\n",
       "    </tr>\n",
       "    <tr>\n",
       "      <th>83</th>\n",
       "      <td>2022-03-08</td>\n",
       "      <td>157.440002</td>\n",
       "      <td>159.747192</td>\n",
       "    </tr>\n",
       "    <tr>\n",
       "      <th>84</th>\n",
       "      <td>2022-03-09</td>\n",
       "      <td>162.949997</td>\n",
       "      <td>157.973312</td>\n",
       "    </tr>\n",
       "    <tr>\n",
       "      <th>85</th>\n",
       "      <td>2022-03-10</td>\n",
       "      <td>158.520004</td>\n",
       "      <td>162.240585</td>\n",
       "    </tr>\n",
       "    <tr>\n",
       "      <th>86</th>\n",
       "      <td>2022-03-11</td>\n",
       "      <td>154.729996</td>\n",
       "      <td>160.707809</td>\n",
       "    </tr>\n",
       "    <tr>\n",
       "      <th>87</th>\n",
       "      <td>2022-03-14</td>\n",
       "      <td>150.619995</td>\n",
       "      <td>156.862701</td>\n",
       "    </tr>\n",
       "    <tr>\n",
       "      <th>88</th>\n",
       "      <td>2022-03-15</td>\n",
       "      <td>155.089996</td>\n",
       "      <td>153.418106</td>\n",
       "    </tr>\n",
       "    <tr>\n",
       "      <th>89</th>\n",
       "      <td>2022-03-16</td>\n",
       "      <td>159.589996</td>\n",
       "      <td>154.729813</td>\n",
       "    </tr>\n",
       "    <tr>\n",
       "      <th>90</th>\n",
       "      <td>2022-03-17</td>\n",
       "      <td>160.619995</td>\n",
       "      <td>158.726212</td>\n",
       "    </tr>\n",
       "    <tr>\n",
       "      <th>91</th>\n",
       "      <td>2022-03-18</td>\n",
       "      <td>163.979996</td>\n",
       "      <td>161.557693</td>\n",
       "    </tr>\n",
       "    <tr>\n",
       "      <th>92</th>\n",
       "      <td>2022-03-21</td>\n",
       "      <td>165.380005</td>\n",
       "      <td>164.682297</td>\n",
       "    </tr>\n",
       "    <tr>\n",
       "      <th>93</th>\n",
       "      <td>2022-03-22</td>\n",
       "      <td>168.820007</td>\n",
       "      <td>166.374756</td>\n",
       "    </tr>\n",
       "    <tr>\n",
       "      <th>94</th>\n",
       "      <td>2022-03-23</td>\n",
       "      <td>170.210007</td>\n",
       "      <td>169.451279</td>\n",
       "    </tr>\n",
       "    <tr>\n",
       "      <th>95</th>\n",
       "      <td>2022-03-24</td>\n",
       "      <td>174.070007</td>\n",
       "      <td>171.264160</td>\n",
       "    </tr>\n",
       "    <tr>\n",
       "      <th>96</th>\n",
       "      <td>2022-03-25</td>\n",
       "      <td>174.720001</td>\n",
       "      <td>175.301163</td>\n",
       "    </tr>\n",
       "    <tr>\n",
       "      <th>97</th>\n",
       "      <td>2022-03-28</td>\n",
       "      <td>175.600006</td>\n",
       "      <td>176.296478</td>\n",
       "    </tr>\n",
       "    <tr>\n",
       "      <th>98</th>\n",
       "      <td>2022-03-29</td>\n",
       "      <td>178.960007</td>\n",
       "      <td>176.603806</td>\n",
       "    </tr>\n",
       "    <tr>\n",
       "      <th>99</th>\n",
       "      <td>2022-03-30</td>\n",
       "      <td>177.770004</td>\n",
       "      <td>180.680756</td>\n",
       "    </tr>\n",
       "    <tr>\n",
       "      <th>100</th>\n",
       "      <td>2022-03-31</td>\n",
       "      <td>174.610001</td>\n",
       "      <td>179.269791</td>\n",
       "    </tr>\n",
       "  </tbody>\n",
       "</table>\n",
       "</div>"
      ],
      "text/plain": [
       "          Date       Close  predictions\n",
       "60  2022-02-02  175.839996   176.970062\n",
       "61  2022-02-03  172.899994   176.031036\n",
       "62  2022-02-04  172.389999   172.494308\n",
       "63  2022-02-07  171.660004   172.236557\n",
       "64  2022-02-08  174.830002   172.527161\n",
       "65  2022-02-09  176.279999   176.650452\n",
       "66  2022-02-10  172.119995   178.732452\n",
       "67  2022-02-11  168.639999   172.515045\n",
       "68  2022-02-14  168.880005   167.564743\n",
       "69  2022-02-15  172.789993   168.637161\n",
       "70  2022-02-16  172.550003   174.257965\n",
       "71  2022-02-17  168.880005   174.599518\n",
       "72  2022-02-18  167.300003   168.930710\n",
       "73  2022-02-22  164.320007   166.416580\n",
       "74  2022-02-23  160.070007   164.134171\n",
       "75  2022-02-24  162.740005   160.500183\n",
       "76  2022-02-25  164.850006   162.432663\n",
       "77  2022-02-28  165.119995   165.526123\n",
       "78  2022-03-01  163.199997   166.337067\n",
       "79  2022-03-02  166.559998   163.996307\n",
       "80  2022-03-03  166.229996   166.307373\n",
       "81  2022-03-04  163.169998   166.967865\n",
       "82  2022-03-07  159.300003   163.780075\n",
       "83  2022-03-08  157.440002   159.747192\n",
       "84  2022-03-09  162.949997   157.973312\n",
       "85  2022-03-10  158.520004   162.240585\n",
       "86  2022-03-11  154.729996   160.707809\n",
       "87  2022-03-14  150.619995   156.862701\n",
       "88  2022-03-15  155.089996   153.418106\n",
       "89  2022-03-16  159.589996   154.729813\n",
       "90  2022-03-17  160.619995   158.726212\n",
       "91  2022-03-18  163.979996   161.557693\n",
       "92  2022-03-21  165.380005   164.682297\n",
       "93  2022-03-22  168.820007   166.374756\n",
       "94  2022-03-23  170.210007   169.451279\n",
       "95  2022-03-24  174.070007   171.264160\n",
       "96  2022-03-25  174.720001   175.301163\n",
       "97  2022-03-28  175.600006   176.296478\n",
       "98  2022-03-29  178.960007   176.603806\n",
       "99  2022-03-30  177.770004   180.680756\n",
       "100 2022-03-31  174.610001   179.269791"
      ]
     },
     "execution_count": 35,
     "metadata": {},
     "output_type": "execute_result"
    }
   ],
   "source": [
    "predict = test_df[window_size:].copy()\n",
    "predict['predictions'] = pred\n",
    "predict"
   ]
  },
  {
   "cell_type": "code",
   "execution_count": 36,
   "metadata": {},
   "outputs": [
    {
     "data": {
      "text/html": [
       "<div>\n",
       "<style scoped>\n",
       "    .dataframe tbody tr th:only-of-type {\n",
       "        vertical-align: middle;\n",
       "    }\n",
       "\n",
       "    .dataframe tbody tr th {\n",
       "        vertical-align: top;\n",
       "    }\n",
       "\n",
       "    .dataframe thead th {\n",
       "        text-align: right;\n",
       "    }\n",
       "</style>\n",
       "<table border=\"1\" class=\"dataframe\">\n",
       "  <thead>\n",
       "    <tr style=\"text-align: right;\">\n",
       "      <th></th>\n",
       "      <th>Date</th>\n",
       "      <th>Close</th>\n",
       "    </tr>\n",
       "  </thead>\n",
       "  <tbody>\n",
       "    <tr>\n",
       "      <th>0</th>\n",
       "      <td>2021-11-05</td>\n",
       "      <td>151.279999</td>\n",
       "    </tr>\n",
       "    <tr>\n",
       "      <th>1</th>\n",
       "      <td>2021-11-08</td>\n",
       "      <td>150.440002</td>\n",
       "    </tr>\n",
       "    <tr>\n",
       "      <th>2</th>\n",
       "      <td>2021-11-09</td>\n",
       "      <td>150.809998</td>\n",
       "    </tr>\n",
       "    <tr>\n",
       "      <th>3</th>\n",
       "      <td>2021-11-10</td>\n",
       "      <td>147.919998</td>\n",
       "    </tr>\n",
       "    <tr>\n",
       "      <th>4</th>\n",
       "      <td>2021-11-11</td>\n",
       "      <td>147.869995</td>\n",
       "    </tr>\n",
       "    <tr>\n",
       "      <th>...</th>\n",
       "      <td>...</td>\n",
       "      <td>...</td>\n",
       "    </tr>\n",
       "    <tr>\n",
       "      <th>96</th>\n",
       "      <td>2022-03-25</td>\n",
       "      <td>174.720001</td>\n",
       "    </tr>\n",
       "    <tr>\n",
       "      <th>97</th>\n",
       "      <td>2022-03-28</td>\n",
       "      <td>175.600006</td>\n",
       "    </tr>\n",
       "    <tr>\n",
       "      <th>98</th>\n",
       "      <td>2022-03-29</td>\n",
       "      <td>178.960007</td>\n",
       "    </tr>\n",
       "    <tr>\n",
       "      <th>99</th>\n",
       "      <td>2022-03-30</td>\n",
       "      <td>177.770004</td>\n",
       "    </tr>\n",
       "    <tr>\n",
       "      <th>100</th>\n",
       "      <td>2022-03-31</td>\n",
       "      <td>174.610001</td>\n",
       "    </tr>\n",
       "  </tbody>\n",
       "</table>\n",
       "<p>101 rows × 2 columns</p>\n",
       "</div>"
      ],
      "text/plain": [
       "          Date       Close\n",
       "0   2021-11-05  151.279999\n",
       "1   2021-11-08  150.440002\n",
       "2   2021-11-09  150.809998\n",
       "3   2021-11-10  147.919998\n",
       "4   2021-11-11  147.869995\n",
       "..         ...         ...\n",
       "96  2022-03-25  174.720001\n",
       "97  2022-03-28  175.600006\n",
       "98  2022-03-29  178.960007\n",
       "99  2022-03-30  177.770004\n",
       "100 2022-03-31  174.610001\n",
       "\n",
       "[101 rows x 2 columns]"
      ]
     },
     "execution_count": 36,
     "metadata": {},
     "output_type": "execute_result"
    }
   ],
   "source": [
    "test_df"
   ]
  },
  {
   "cell_type": "code",
   "execution_count": 37,
   "metadata": {
    "id": "nE-v9zvKAT7T"
   },
   "outputs": [],
   "source": [
    "predict=predict.set_index('Date')"
   ]
  },
  {
   "cell_type": "code",
   "execution_count": 38,
   "metadata": {
    "colab": {
     "base_uri": "https://localhost:8080/",
     "height": 497
    },
    "id": "msysoH-Qg3lZ",
    "outputId": "4d3eb7a4-085f-4d49-8071-46eeae9a8c77"
   },
   "outputs": [
    {
     "data": {
      "image/png": "[encoded data removed]",
      "text/plain": [
       "<Figure size 1152x576 with 1 Axes>"
      ]
     },
     "metadata": {
      "needs_background": "light"
     },
     "output_type": "display_data"
    }
   ],
   "source": [
    "#plotting\n",
    "plt.figure(figsize=(16,8))\n",
    "plt.xlabel('Tanggal')\n",
    "plt.ylabel('Harga ($)')\n",
    "plt.plot(predict['Close'])\n",
    "plt.plot(predict['predictions'])\n",
    "plt.legend(['Actual', 'Prediction'], loc='best')\n",
    "plt.show()"
   ]
  },
  {
   "cell_type": "code",
   "execution_count": 39,
   "metadata": {
    "id": "4LBPzsuWi3cC"
   },
   "outputs": [],
   "source": [
    "#making dataframe to save the error data\n",
    "errors = pd.DataFrame(index=['MSE','RMSE', 'MAE', 'MAPE', 'R2'], columns=['Value'])"
   ]
  },
  {
   "cell_type": "code",
   "execution_count": 41,
   "metadata": {
    "id": "AAP-LCH_hprD"
   },
   "outputs": [],
   "source": [
    "#calculating errors\n",
    "mse = mean_squared_error(y_test, pred)\n",
    "errors['Value']['MSE'] = mse\n",
    "\n",
    "rmse = np.sqrt(mean_squared_error(y_test, pred))\n",
    "errors['Value']['RMSE'] = rmse\n",
    "\n",
    "mae = mean_absolute_error(y_test, pred)\n",
    "errors['Value']['MAE'] = mae\n",
    "\n",
    "mape = mean_absolute_percentage_error(y_test, pred)\n",
    "errors['Value']['MAPE'] = mape\n",
    "\n",
    "r2 = r2_score(y_test, pred)\n",
    "errors['Value']['R2'] = r2"
   ]
  },
  {
   "cell_type": "code",
   "execution_count": 42,
   "metadata": {
    "colab": {
     "base_uri": "https://localhost:8080/",
     "height": 206
    },
    "id": "9BjiC7p49IrN",
    "outputId": "5cf0ac10-8fa2-47d1-f58f-5cc1aae7327b"
   },
   "outputs": [
    {
     "data": {
      "text/html": [
       "<div>\n",
       "<style scoped>\n",
       "    .dataframe tbody tr th:only-of-type {\n",
       "        vertical-align: middle;\n",
       "    }\n",
       "\n",
       "    .dataframe tbody tr th {\n",
       "        vertical-align: top;\n",
       "    }\n",
       "\n",
       "    .dataframe thead th {\n",
       "        text-align: right;\n",
       "    }\n",
       "</style>\n",
       "<table border=\"1\" class=\"dataframe\">\n",
       "  <thead>\n",
       "    <tr style=\"text-align: right;\">\n",
       "      <th></th>\n",
       "      <th>Value</th>\n",
       "    </tr>\n",
       "  </thead>\n",
       "  <tbody>\n",
       "    <tr>\n",
       "      <th>MSE</th>\n",
       "      <td>10.2855</td>\n",
       "    </tr>\n",
       "    <tr>\n",
       "      <th>RMSE</th>\n",
       "      <td>3.20711</td>\n",
       "    </tr>\n",
       "    <tr>\n",
       "      <th>MAE</th>\n",
       "      <td>2.68035</td>\n",
       "    </tr>\n",
       "    <tr>\n",
       "      <th>MAPE</th>\n",
       "      <td>0.0162283</td>\n",
       "    </tr>\n",
       "    <tr>\n",
       "      <th>R2</th>\n",
       "      <td>0.78294</td>\n",
       "    </tr>\n",
       "  </tbody>\n",
       "</table>\n",
       "</div>"
      ],
      "text/plain": [
       "          Value\n",
       "MSE     10.2855\n",
       "RMSE    3.20711\n",
       "MAE     2.68035\n",
       "MAPE  0.0162283\n",
       "R2      0.78294"
      ]
     },
     "execution_count": 42,
     "metadata": {},
     "output_type": "execute_result"
    }
   ],
   "source": [
    "errors"
   ]
  }
 ],
 "metadata": {
  "colab": {
   "provenance": []
  },
  "kernelspec": {
   "display_name": "Python 3",
   "language": "python",
   "name": "python3"
  },
  "language_info": {
   "codemirror_mode": {
    "name": "ipython",
    "version": 3
   },
   "file_extension": ".py",
   "mimetype": "text/x-python",
   "name": "python",
   "nbconvert_exporter": "python",
   "pygments_lexer": "ipython3",
   "version": "3.8.3"
  }
 },
 "nbformat": 4,
 "nbformat_minor": 1
}
